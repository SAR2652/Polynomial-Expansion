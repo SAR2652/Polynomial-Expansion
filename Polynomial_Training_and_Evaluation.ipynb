{
  "cells": [
    {
      "cell_type": "markdown",
      "metadata": {
        "id": "view-in-github",
        "colab_type": "text"
      },
      "source": [
        "<a href=\"https://colab.research.google.com/github/SAR2652/Polynomial-Expansion/blob/main/Polynomial_Training_and_Evaluation.ipynb\" target=\"_parent\"><img src=\"https://colab.research.google.com/assets/colab-badge.svg\" alt=\"Open In Colab\"/></a>"
      ]
    },
    {
      "cell_type": "code",
      "execution_count": 1,
      "metadata": {
        "colab": {
          "base_uri": "https://localhost:8080/"
        },
        "id": "CQCA0hV-7LWE",
        "outputId": "adae4dac-9f91-4a5c-83a9-1dc325a14d7b"
      },
      "outputs": [
        {
          "output_type": "stream",
          "name": "stdout",
          "text": [
            "Tue Aug 16 13:58:37 2022       \n",
            "+-----------------------------------------------------------------------------+\n",
            "| NVIDIA-SMI 460.32.03    Driver Version: 460.32.03    CUDA Version: 11.2     |\n",
            "|-------------------------------+----------------------+----------------------+\n",
            "| GPU  Name        Persistence-M| Bus-Id        Disp.A | Volatile Uncorr. ECC |\n",
            "| Fan  Temp  Perf  Pwr:Usage/Cap|         Memory-Usage | GPU-Util  Compute M. |\n",
            "|                               |                      |               MIG M. |\n",
            "|===============================+======================+======================|\n",
            "|   0  Tesla P100-PCIE...  Off  | 00000000:00:04.0 Off |                    0 |\n",
            "| N/A   37C    P0    26W / 250W |      0MiB / 16280MiB |      0%      Default |\n",
            "|                               |                      |                  N/A |\n",
            "+-------------------------------+----------------------+----------------------+\n",
            "                                                                               \n",
            "+-----------------------------------------------------------------------------+\n",
            "| Processes:                                                                  |\n",
            "|  GPU   GI   CI        PID   Type   Process name                  GPU Memory |\n",
            "|        ID   ID                                                   Usage      |\n",
            "|=============================================================================|\n",
            "|  No running processes found                                                 |\n",
            "+-----------------------------------------------------------------------------+\n"
          ]
        }
      ],
      "source": [
        "!nvidia-smi"
      ]
    },
    {
      "cell_type": "code",
      "execution_count": 2,
      "metadata": {
        "colab": {
          "base_uri": "https://localhost:8080/"
        },
        "id": "TJUBLJoD_1Cj",
        "outputId": "218ca053-0453-4d14-f654-0704d20ceaba"
      },
      "outputs": [
        {
          "output_type": "stream",
          "name": "stdout",
          "text": [
            "Mounted at /content/drive\n"
          ]
        }
      ],
      "source": [
        "from google.colab import drive\n",
        "drive.mount('/content/drive')"
      ]
    },
    {
      "cell_type": "code",
      "execution_count": 3,
      "metadata": {
        "colab": {
          "base_uri": "https://localhost:8080/"
        },
        "id": "O_uRgRQP64Pt",
        "outputId": "f6af4e4e-0a3a-4051-da1c-2883c90870cd"
      },
      "outputs": [
        {
          "output_type": "stream",
          "name": "stdout",
          "text": [
            "Cloning into 'Polynomial-Expansion'...\n",
            "remote: Enumerating objects: 231, done.\u001b[K\n",
            "remote: Counting objects: 100% (57/57), done.\u001b[K\n",
            "remote: Compressing objects: 100% (33/33), done.\u001b[K\n",
            "remote: Total 231 (delta 27), reused 52 (delta 24), pack-reused 174\u001b[K\n",
            "Receiving objects: 100% (231/231), 196.92 MiB | 24.39 MiB/s, done.\n",
            "Resolving deltas: 100% (124/124), done.\n"
          ]
        }
      ],
      "source": [
        "!git clone https://github.com/SAR2652/Polynomial-Expansion"
      ]
    },
    {
      "cell_type": "code",
      "execution_count": 4,
      "metadata": {
        "colab": {
          "base_uri": "https://localhost:8080/"
        },
        "id": "l6h7zxbp7C09",
        "outputId": "712bef60-fbf5-493b-87ae-2f8fe7c86d41"
      },
      "outputs": [
        {
          "output_type": "stream",
          "name": "stdout",
          "text": [
            ".  ..  .config\tdrive  Polynomial-Expansion  sample_data\n"
          ]
        }
      ],
      "source": [
        "!ls -a"
      ]
    },
    {
      "cell_type": "code",
      "execution_count": 5,
      "metadata": {
        "colab": {
          "base_uri": "https://localhost:8080/"
        },
        "id": "bx7LP23d7FnO",
        "outputId": "52a0dd0e-b911-4dc8-b623-1240a6b6045d"
      },
      "outputs": [
        {
          "output_type": "stream",
          "name": "stdout",
          "text": [
            "/content/Polynomial-Expansion\n"
          ]
        }
      ],
      "source": [
        "%cd Polynomial-Expansion/"
      ]
    },
    {
      "cell_type": "code",
      "execution_count": 6,
      "metadata": {
        "colab": {
          "base_uri": "https://localhost:8080/"
        },
        "id": "yYN1vVdb7Hah",
        "outputId": "0ef2c79a-6e83-42c6-d049-0c73617ba55e"
      },
      "outputs": [
        {
          "output_type": "stream",
          "name": "stdout",
          "text": [
            ".\t\t    expansions.txt  model.py\t      train_gpu_colab.sh\n",
            "..\t\t    .git\t    models\t      train_gpu.sh\n",
            "build_tokenizer.py  .gitignore\t    model_summary.py  train_mps.sh\n",
            "build_tokenizer.sh  inference.py    network.txt       train.py\n",
            "data\t\t    inference.sh    requirements.txt  train.sh\n",
            "dataset.py\t    __init__.py     split_data.py     train.txt\n",
            "expand.md\t    main.py\t    tokenizers\t      utils.py\n"
          ]
        }
      ],
      "source": [
        "!ls -a"
      ]
    },
    {
      "cell_type": "code",
      "source": [
        "!pip install pytorch-model-summary"
      ],
      "metadata": {
        "colab": {
          "base_uri": "https://localhost:8080/"
        },
        "id": "FZV_HY1EzYDx",
        "outputId": "42331fd3-a5c3-417a-9424-33bce849b79c"
      },
      "execution_count": 7,
      "outputs": [
        {
          "output_type": "stream",
          "name": "stdout",
          "text": [
            "Looking in indexes: https://pypi.org/simple, https://us-python.pkg.dev/colab-wheels/public/simple/\n",
            "Collecting pytorch-model-summary\n",
            "  Downloading pytorch_model_summary-0.1.2-py3-none-any.whl (9.3 kB)\n",
            "Requirement already satisfied: torch in /usr/local/lib/python3.7/dist-packages (from pytorch-model-summary) (1.12.1+cu113)\n",
            "Requirement already satisfied: numpy in /usr/local/lib/python3.7/dist-packages (from pytorch-model-summary) (1.21.6)\n",
            "Requirement already satisfied: tqdm in /usr/local/lib/python3.7/dist-packages (from pytorch-model-summary) (4.64.0)\n",
            "Requirement already satisfied: typing-extensions in /usr/local/lib/python3.7/dist-packages (from torch->pytorch-model-summary) (4.1.1)\n",
            "Installing collected packages: pytorch-model-summary\n",
            "Successfully installed pytorch-model-summary-0.1.2\n"
          ]
        }
      ]
    },
    {
      "cell_type": "code",
      "source": [
        "!python model_summary.py"
      ],
      "metadata": {
        "colab": {
          "base_uri": "https://localhost:8080/"
        },
        "id": "dVsUzkiZw0ix",
        "outputId": "a8020273-40a4-48a9-b0e9-e53fd681de1d"
      },
      "execution_count": 8,
      "outputs": [
        {
          "output_type": "stream",
          "name": "stdout",
          "text": [
            "Accelerator = cuda\n",
            "----------------------------------------------------------------------------------------------\n",
            "      Layer (type)                               Output Shape         Param #     Tr. Param #\n",
            "==============================================================================================\n",
            "       Embedding-1                               [31, 1, 320]           9,920           9,920\n",
            "         Dropout-2                               [31, 1, 320]               0               0\n",
            "            LSTM-3     [31, 1, 640], [2, 1, 320], [2, 1, 320]       1,643,520       1,643,520\n",
            "          Linear-4                                [1, 1, 320]         205,120         205,120\n",
            "          Linear-5                                [1, 1, 320]         205,120         205,120\n",
            "==============================================================================================\n",
            "Total params: 2,063,680\n",
            "Trainable params: 2,063,680\n",
            "Non-trainable params: 0\n",
            "----------------------------------------------------------------------------------------------\n",
            "------------------------------------------------------------------------------------------------\n",
            "      Layer (type)                                 Output Shape         Param #     Tr. Param #\n",
            "================================================================================================\n",
            "       Embedding-1                                 [1, 16, 320]           9,920           9,920\n",
            "         Dropout-2                                 [1, 16, 320]               0               0\n",
            "          Linear-3                                  [31, 16, 1]             961             961\n",
            "            ReLU-4                                  [31, 16, 1]               0               0\n",
            "         Softmax-5                                  [31, 16, 1]               0               0\n",
            "            LSTM-6     [1, 16, 320], [1, 16, 320], [1, 16, 320]       1,640,960       1,640,960\n",
            "          Linear-7                                  [1, 16, 31]           9,951           9,951\n",
            "================================================================================================\n",
            "Total params: 1,661,792\n",
            "Trainable params: 1,661,792\n",
            "Non-trainable params: 0\n",
            "------------------------------------------------------------------------------------------------\n"
          ]
        }
      ]
    },
    {
      "cell_type": "code",
      "source": [
        "!sh inference.sh"
      ],
      "metadata": {
        "colab": {
          "base_uri": "https://localhost:8080/"
        },
        "id": "hyMJr1Dd2af2",
        "outputId": "d23c2e06-9e23-4770-e327-e9c7326f3bce"
      },
      "execution_count": 9,
      "outputs": [
        {
          "output_type": "stream",
          "name": "stdout",
          "text": [
            "Accelerator = cuda\n",
            "Number of Factors = 200000\n",
            "Accelerator = cuda\n",
            "20000 samples processed.\n",
            "40000 samples processed.\n",
            "60000 samples processed.\n",
            "80000 samples processed.\n",
            "100000 samples processed.\n",
            "120000 samples processed.\n",
            "140000 samples processed.\n",
            "160000 samples processed.\n",
            "180000 samples processed.\n",
            "200000 samples processed.\n",
            "Average Score on Validation Data of 200000 samples = 0.98352\n"
          ]
        }
      ]
    },
    {
      "cell_type": "code",
      "source": [
        "!python main.py"
      ],
      "metadata": {
        "colab": {
          "base_uri": "https://localhost:8080/"
        },
        "id": "HIXyZnPeJn9v",
        "outputId": "ef46d59c-06e5-4f14-968c-cd41dcca65fd"
      },
      "execution_count": 9,
      "outputs": [
        {
          "output_type": "stream",
          "name": "stdout",
          "text": [
            "Accelerator = cuda\n",
            "100000 samples processed\n",
            "200000 samples processed\n",
            "300000 samples processed\n",
            "400000 samples processed\n",
            "500000 samples processed\n",
            "600000 samples processed\n",
            "700000 samples processed\n",
            "800000 samples processed\n",
            "900000 samples processed\n",
            "1000000 samples processed\n",
            "0.987489\n"
          ]
        }
      ]
    },
    {
      "cell_type": "code",
      "execution_count": null,
      "metadata": {
        "colab": {
          "base_uri": "https://localhost:8080/"
        },
        "id": "o_pOux_M7RTM",
        "outputId": "ae799caf-58bb-4038-d53a-ae29e66b010a"
      },
      "outputs": [
        {
          "output_type": "stream",
          "name": "stdout",
          "text": [
            "Training Accelerator: cuda\n",
            "Model will run for 200 epochs.\n",
            "Samples Processed = 100000, Time Elapsed = 00:03:21.81, Running Loss = 2762.9027238190174\n",
            "Samples Processed = 200000, Time Elapsed = 00:06:43.72, Running Loss = 1466.677127406001\n",
            "Samples Processed = 300000, Time Elapsed = 00:10:04.98, Running Loss = 1106.7234237343073\n",
            "Samples Processed = 400000, Time Elapsed = 00:13:25.86, Running Loss = 872.3928616195917\n",
            "Samples Processed = 500000, Time Elapsed = 00:16:47.17, Running Loss = 686.9462893530726\n",
            "Samples Processed = 600000, Time Elapsed = 00:20:07.49, Running Loss = 563.0458110384643\n",
            "Samples Processed = 700000, Time Elapsed = 00:23:27.32, Running Loss = 490.74835542961955\n",
            "Samples Processed = 800000, Time Elapsed = 00:26:47.03, Running Loss = 450.9326689168811\n",
            "Samples Processed = 900000, Time Elapsed = 00:30:05.95, Running Loss = 421.59205225110054\n",
            "Samples Processed = 1000000, Time Elapsed = 00:33:25.91, Running Loss = 402.80169831588864\n",
            "Samples Processed = 1100000, Time Elapsed = 00:36:45.41, Running Loss = 377.65575092844665\n",
            "Samples Processed = 1200000, Time Elapsed = 00:40:05.65, Running Loss = 363.6254154331982\n",
            "Samples Processed = 1300000, Time Elapsed = 00:43:24.85, Running Loss = 356.3911207690835\n",
            "Samples Processed = 1400000, Time Elapsed = 00:46:44.47, Running Loss = 336.4179174788296\n",
            "Samples Processed = 1500000, Time Elapsed = 00:50:03.81, Running Loss = 330.50153615511954\n",
            "Samples Processed = 1600000, Time Elapsed = 00:53:23.47, Running Loss = 316.3078589644283\n",
            "Training Loss for Epoch 1 = 11305.66261161305\n",
            "Samples Processed = 100000, Time Elapsed = 00:56:44.90, Running Loss = 304.260171495378\n",
            "Samples Processed = 200000, Time Elapsed = 01:00:04.90, Running Loss = 303.8082353118807\n",
            "Samples Processed = 300000, Time Elapsed = 01:03:24.56, Running Loss = 291.9300393462181\n",
            "Samples Processed = 400000, Time Elapsed = 01:06:44.16, Running Loss = 280.71128111332655\n",
            "Samples Processed = 500000, Time Elapsed = 01:10:03.38, Running Loss = 277.87894885847345\n",
            "Samples Processed = 600000, Time Elapsed = 01:13:22.39, Running Loss = 270.52855938114226\n",
            "Samples Processed = 700000, Time Elapsed = 01:16:41.38, Running Loss = 259.84468654729426\n",
            "Samples Processed = 800000, Time Elapsed = 01:20:01.19, Running Loss = 254.39997756108642\n",
            "Samples Processed = 900000, Time Elapsed = 01:23:21.29, Running Loss = 253.63924611732364\n",
            "Samples Processed = 1000000, Time Elapsed = 01:26:41.04, Running Loss = 243.61717962659895\n",
            "Samples Processed = 1100000, Time Elapsed = 01:30:00.94, Running Loss = 241.2110782386735\n",
            "Samples Processed = 1200000, Time Elapsed = 01:33:20.76, Running Loss = 233.54728793911636\n",
            "Samples Processed = 1300000, Time Elapsed = 01:36:40.49, Running Loss = 223.83748027402908\n",
            "Samples Processed = 1400000, Time Elapsed = 01:40:00.41, Running Loss = 221.56278373207897\n",
            "Samples Processed = 1500000, Time Elapsed = 01:43:19.99, Running Loss = 212.70177719113417\n",
            "Samples Processed = 1600000, Time Elapsed = 01:46:38.97, Running Loss = 208.49639707896858\n",
            "Training Loss for Epoch 2 = 4081.975129812723\n",
            "Samples Processed = 100000, Time Elapsed = 01:49:59.18, Running Loss = 198.03479929827154\n",
            "Samples Processed = 200000, Time Elapsed = 01:53:18.74, Running Loss = 192.0644414741546\n",
            "Samples Processed = 300000, Time Elapsed = 01:56:39.37, Running Loss = 189.10931022837758\n",
            "Samples Processed = 400000, Time Elapsed = 02:00:00.12, Running Loss = 184.83313850685954\n",
            "Samples Processed = 500000, Time Elapsed = 02:03:20.59, Running Loss = 178.44293936993927\n",
            "Samples Processed = 600000, Time Elapsed = 02:06:40.31, Running Loss = 173.7881780914031\n",
            "Samples Processed = 700000, Time Elapsed = 02:09:59.97, Running Loss = 169.58800896606408\n",
            "Samples Processed = 800000, Time Elapsed = 02:13:19.30, Running Loss = 169.34429875249043\n",
            "Samples Processed = 900000, Time Elapsed = 02:16:38.69, Running Loss = 165.14531631255522\n",
            "Samples Processed = 1000000, Time Elapsed = 02:19:58.34, Running Loss = 160.66607943316922\n",
            "Samples Processed = 1100000, Time Elapsed = 02:23:17.95, Running Loss = 155.39917428605258\n",
            "Samples Processed = 1200000, Time Elapsed = 02:26:37.18, Running Loss = 154.34352594194934\n",
            "Samples Processed = 1300000, Time Elapsed = 02:29:56.68, Running Loss = 147.28133632428944\n",
            "Samples Processed = 1400000, Time Elapsed = 02:33:15.60, Running Loss = 149.67129342467524\n",
            "Samples Processed = 1500000, Time Elapsed = 02:36:34.73, Running Loss = 143.46401299990248\n",
            "Samples Processed = 1600000, Time Elapsed = 02:39:54.46, Running Loss = 141.70129685476422\n",
            "Training Loss for Epoch 3 = 2672.877150264918\n",
            "Samples Processed = 100000, Time Elapsed = 02:43:14.39, Running Loss = 135.71714654006064\n",
            "Samples Processed = 200000, Time Elapsed = 02:46:34.35, Running Loss = 133.5326104387641\n",
            "Samples Processed = 300000, Time Elapsed = 02:49:54.18, Running Loss = 130.16039936197922\n",
            "Samples Processed = 400000, Time Elapsed = 02:53:15.46, Running Loss = 129.8735034824349\n",
            "Samples Processed = 500000, Time Elapsed = 02:56:36.71, Running Loss = 126.89551052055322\n",
            "Samples Processed = 600000, Time Elapsed = 02:59:56.90, Running Loss = 121.53715264960192\n",
            "Samples Processed = 700000, Time Elapsed = 03:03:16.83, Running Loss = 121.25480695581064\n",
            "Samples Processed = 800000, Time Elapsed = 03:06:35.52, Running Loss = 118.21027878276072\n",
            "Samples Processed = 900000, Time Elapsed = 03:09:54.35, Running Loss = 117.73395364824682\n",
            "Samples Processed = 1000000, Time Elapsed = 03:13:13.62, Running Loss = 114.5239149746485\n",
            "Samples Processed = 1100000, Time Elapsed = 03:16:35.09, Running Loss = 111.34762339037843\n",
            "Samples Processed = 1200000, Time Elapsed = 03:19:55.79, Running Loss = 114.5408249835018\n",
            "Samples Processed = 1300000, Time Elapsed = 03:23:16.41, Running Loss = 108.73762901569717\n",
            "Samples Processed = 1400000, Time Elapsed = 03:26:36.56, Running Loss = 107.74474584055133\n",
            "Samples Processed = 1500000, Time Elapsed = 03:29:56.19, Running Loss = 107.91399188747164\n",
            "Samples Processed = 1600000, Time Elapsed = 03:33:15.66, Running Loss = 107.08444715384394\n",
            "Training Loss for Epoch 4 = 1906.808539626305\n",
            "Samples Processed = 100000, Time Elapsed = 03:36:36.85, Running Loss = 98.34771446348168\n",
            "Samples Processed = 200000, Time Elapsed = 03:39:56.98, Running Loss = 99.05626842449419\n",
            "Samples Processed = 300000, Time Elapsed = 03:43:16.83, Running Loss = 96.68588076648302\n",
            "Samples Processed = 400000, Time Elapsed = 03:46:36.75, Running Loss = 94.90528286574408\n",
            "Samples Processed = 500000, Time Elapsed = 03:49:55.91, Running Loss = 91.81206072471105\n",
            "Samples Processed = 600000, Time Elapsed = 03:53:15.13, Running Loss = 93.05317082826514\n",
            "Samples Processed = 700000, Time Elapsed = 03:56:35.07, Running Loss = 92.17291007319\n",
            "Samples Processed = 800000, Time Elapsed = 03:59:54.65, Running Loss = 90.28747076145373\n",
            "Samples Processed = 900000, Time Elapsed = 04:03:14.35, Running Loss = 90.28520241513615\n",
            "Samples Processed = 1000000, Time Elapsed = 04:06:33.42, Running Loss = 88.26645091292448\n",
            "Samples Processed = 1100000, Time Elapsed = 04:09:53.29, Running Loss = 88.42499012488406\n",
            "Samples Processed = 1200000, Time Elapsed = 04:13:13.13, Running Loss = 86.63794125139248\n",
            "Samples Processed = 1300000, Time Elapsed = 04:16:32.81, Running Loss = 85.0523444552091\n",
            "Samples Processed = 1400000, Time Elapsed = 04:19:52.03, Running Loss = 84.26348003430758\n",
            "Samples Processed = 1500000, Time Elapsed = 04:23:10.67, Running Loss = 80.95382614945993\n",
            "Samples Processed = 1600000, Time Elapsed = 04:26:29.11, Running Loss = 78.6455448368215\n",
            "Training Loss for Epoch 5 = 1438.8505390879582\n",
            "Samples Processed = 100000, Time Elapsed = 04:29:47.97, Running Loss = 75.01117277157027\n",
            "Samples Processed = 200000, Time Elapsed = 04:33:07.08, Running Loss = 75.55892311496427\n",
            "Samples Processed = 300000, Time Elapsed = 04:36:26.45, Running Loss = 75.11719715123763\n",
            "Samples Processed = 400000, Time Elapsed = 04:39:45.93, Running Loss = 73.84797095321119\n",
            "Samples Processed = 500000, Time Elapsed = 04:43:04.83, Running Loss = 72.00384442950599\n",
            "Samples Processed = 600000, Time Elapsed = 04:46:24.04, Running Loss = 72.1392427009414\n",
            "Samples Processed = 700000, Time Elapsed = 04:49:43.32, Running Loss = 71.57230169477407\n",
            "Samples Processed = 800000, Time Elapsed = 04:53:02.23, Running Loss = 72.59510555304587\n",
            "Samples Processed = 900000, Time Elapsed = 04:56:20.85, Running Loss = 70.91814987896942\n",
            "Samples Processed = 1000000, Time Elapsed = 04:59:39.48, Running Loss = 68.72570679924684\n",
            "Samples Processed = 1100000, Time Elapsed = 05:02:57.65, Running Loss = 68.03903089568485\n",
            "Samples Processed = 1200000, Time Elapsed = 05:06:15.54, Running Loss = 68.3708070415014\n",
            "Samples Processed = 1300000, Time Elapsed = 05:09:33.89, Running Loss = 67.80608892964665\n",
            "Samples Processed = 1400000, Time Elapsed = 05:12:51.89, Running Loss = 67.3423100625514\n",
            "Samples Processed = 1500000, Time Elapsed = 05:16:10.81, Running Loss = 67.56481622194406\n",
            "Samples Processed = 1600000, Time Elapsed = 05:19:29.78, Running Loss = 62.88353592721978\n",
            "Training Loss for Epoch 6 = 1129.496204126015\n",
            "Samples Processed = 100000, Time Elapsed = 05:22:49.26, Running Loss = 59.242800797277596\n",
            "Samples Processed = 200000, Time Elapsed = 05:26:10.33, Running Loss = 60.2072332125972\n",
            "Samples Processed = 300000, Time Elapsed = 05:29:32.21, Running Loss = 61.418221239960985\n",
            "Samples Processed = 400000, Time Elapsed = 05:32:53.85, Running Loss = 60.24859238404315\n",
            "Samples Processed = 500000, Time Elapsed = 05:36:15.00, Running Loss = 60.65997151951888\n",
            "Samples Processed = 600000, Time Elapsed = 05:39:37.06, Running Loss = 57.37230076477863\n",
            "Samples Processed = 700000, Time Elapsed = 05:42:57.02, Running Loss = 57.470683521125466\n",
            "Samples Processed = 800000, Time Elapsed = 05:46:18.88, Running Loss = 57.34188247055863\n",
            "Samples Processed = 900000, Time Elapsed = 05:49:40.78, Running Loss = 59.338927903416334\n",
            "Samples Processed = 1000000, Time Elapsed = 05:53:01.23, Running Loss = 57.814905638515484\n",
            "Samples Processed = 1100000, Time Elapsed = 05:56:22.43, Running Loss = 57.06928330202936\n",
            "Samples Processed = 1200000, Time Elapsed = 05:59:42.66, Running Loss = 56.59562212129822\n",
            "Samples Processed = 1300000, Time Elapsed = 06:03:04.50, Running Loss = 55.60764856392052\n",
            "Samples Processed = 1400000, Time Elapsed = 06:06:26.21, Running Loss = 55.58775350524229\n",
            "Samples Processed = 1500000, Time Elapsed = 06:09:48.09, Running Loss = 52.7363898014446\n",
            "Samples Processed = 1600000, Time Elapsed = 06:13:08.02, Running Loss = 53.735740119125694\n",
            "Training Loss for Epoch 7 = 922.447956864853\n",
            "Samples Processed = 100000, Time Elapsed = 06:16:29.10, Running Loss = 47.436949107272085\n",
            "Samples Processed = 200000, Time Elapsed = 06:19:49.70, Running Loss = 48.753740243155335\n",
            "Samples Processed = 300000, Time Elapsed = 06:23:09.80, Running Loss = 49.12076696337317\n",
            "Samples Processed = 400000, Time Elapsed = 06:26:30.16, Running Loss = 50.10541952092899\n",
            "Samples Processed = 500000, Time Elapsed = 06:29:51.19, Running Loss = 48.190277872025035\n",
            "Samples Processed = 600000, Time Elapsed = 06:33:11.09, Running Loss = 52.414274535432924\n",
            "Samples Processed = 700000, Time Elapsed = 06:36:32.01, Running Loss = 48.56585765375348\n",
            "Samples Processed = 800000, Time Elapsed = 06:39:52.25, Running Loss = 47.81555711521651\n",
            "Samples Processed = 900000, Time Elapsed = 06:43:13.14, Running Loss = 49.802686674083816\n",
            "Samples Processed = 1000000, Time Elapsed = 06:46:34.03, Running Loss = 46.452139848217485\n",
            "Samples Processed = 1100000, Time Elapsed = 06:49:54.31, Running Loss = 49.38269870867953\n",
            "Samples Processed = 1200000, Time Elapsed = 06:53:14.61, Running Loss = 46.801189955447626\n",
            "Samples Processed = 1300000, Time Elapsed = 06:56:34.05, Running Loss = 48.20835433177126\n",
            "Samples Processed = 1400000, Time Elapsed = 06:59:53.93, Running Loss = 46.24687300725782\n",
            "Samples Processed = 1500000, Time Elapsed = 07:03:13.07, Running Loss = 46.0294240921794\n",
            "Samples Processed = 1600000, Time Elapsed = 07:06:32.78, Running Loss = 47.17542835978384\n",
            "Training Loss for Epoch 8 = 772.5016379885783\n",
            "Samples Processed = 100000, Time Elapsed = 07:09:53.10, Running Loss = 41.52982228748442\n",
            "Samples Processed = 200000, Time Elapsed = 07:13:12.78, Running Loss = 42.48911192576634\n",
            "Samples Processed = 300000, Time Elapsed = 07:16:33.98, Running Loss = 42.13900921628374\n",
            "Samples Processed = 400000, Time Elapsed = 07:19:54.15, Running Loss = 41.18442724940542\n",
            "Samples Processed = 500000, Time Elapsed = 07:23:14.39, Running Loss = 42.24589863469009\n",
            "Samples Processed = 600000, Time Elapsed = 07:26:33.86, Running Loss = 40.30441265540867\n",
            "Samples Processed = 700000, Time Elapsed = 07:29:54.13, Running Loss = 41.78644620141131\n",
            "Samples Processed = 800000, Time Elapsed = 07:33:14.11, Running Loss = 42.40704024294973\n",
            "Samples Processed = 900000, Time Elapsed = 07:36:34.23, Running Loss = 40.97858135237766\n",
            "Samples Processed = 1000000, Time Elapsed = 07:39:54.71, Running Loss = 41.234940918002394\n",
            "Samples Processed = 1100000, Time Elapsed = 07:43:14.48, Running Loss = 42.105630106816534\n",
            "Samples Processed = 1200000, Time Elapsed = 07:46:35.35, Running Loss = 39.64099038909626\n",
            "Samples Processed = 1300000, Time Elapsed = 07:49:55.39, Running Loss = 41.44037433483754\n",
            "Samples Processed = 1400000, Time Elapsed = 07:53:15.38, Running Loss = 39.653175260355056\n",
            "Samples Processed = 1500000, Time Elapsed = 07:56:35.65, Running Loss = 40.655647019986645\n",
            "Samples Processed = 1600000, Time Elapsed = 07:59:55.58, Running Loss = 39.01886017092329\n",
            "Training Loss for Epoch 9 = 658.8143679657951\n",
            "Samples Processed = 100000, Time Elapsed = 08:03:16.38, Running Loss = 35.40034183899843\n",
            "Samples Processed = 200000, Time Elapsed = 08:06:36.77, Running Loss = 37.593215437394974\n",
            "Samples Processed = 300000, Time Elapsed = 08:09:56.88, Running Loss = 38.397213605094294\n",
            "Samples Processed = 400000, Time Elapsed = 08:13:17.65, Running Loss = 36.197385520790704\n",
            "Samples Processed = 500000, Time Elapsed = 08:16:37.89, Running Loss = 34.06709058443812\n",
            "Samples Processed = 600000, Time Elapsed = 08:19:57.25, Running Loss = 35.26591979438672\n",
            "Samples Processed = 700000, Time Elapsed = 08:23:17.00, Running Loss = 34.97223427201243\n",
            "Samples Processed = 800000, Time Elapsed = 08:26:36.59, Running Loss = 36.872133300392306\n",
            "Samples Processed = 900000, Time Elapsed = 08:29:56.29, Running Loss = 34.147426342191466\n",
            "Samples Processed = 1000000, Time Elapsed = 08:33:16.10, Running Loss = 37.1000642626168\n",
            "Samples Processed = 1100000, Time Elapsed = 08:36:36.86, Running Loss = 34.8307914682664\n",
            "Samples Processed = 1200000, Time Elapsed = 08:39:57.42, Running Loss = 35.862885351081786\n",
            "Samples Processed = 1300000, Time Elapsed = 08:43:18.19, Running Loss = 36.132003989914665\n",
            "Samples Processed = 1400000, Time Elapsed = 08:46:38.94, Running Loss = 34.270859299103904\n",
            "Samples Processed = 1500000, Time Elapsed = 08:49:59.46, Running Loss = 33.414561841025716\n",
            "Samples Processed = 1600000, Time Elapsed = 08:53:19.77, Running Loss = 35.78449506504694\n",
            "Training Loss for Epoch 10 = 570.3086219727556\n",
            "Samples Processed = 100000, Time Elapsed = 08:56:40.96, Running Loss = 31.18153905908548\n",
            "Samples Processed = 200000, Time Elapsed = 09:00:02.86, Running Loss = 31.700320933734474\n",
            "Samples Processed = 300000, Time Elapsed = 09:03:24.53, Running Loss = 32.69232385359646\n",
            "Samples Processed = 400000, Time Elapsed = 09:06:44.99, Running Loss = 30.307751724743866\n",
            "Samples Processed = 500000, Time Elapsed = 09:10:05.17, Running Loss = 30.381595925726288\n",
            "Samples Processed = 600000, Time Elapsed = 09:13:24.74, Running Loss = 31.363796477438882\n",
            "Samples Processed = 700000, Time Elapsed = 09:16:45.03, Running Loss = 32.7091444609614\n",
            "Samples Processed = 800000, Time Elapsed = 09:20:05.54, Running Loss = 30.92671911108482\n",
            "Samples Processed = 900000, Time Elapsed = 09:23:27.24, Running Loss = 30.478994555400277\n",
            "Samples Processed = 1000000, Time Elapsed = 09:26:48.09, Running Loss = 33.74514750145681\n",
            "Samples Processed = 1100000, Time Elapsed = 09:30:09.04, Running Loss = 29.37848640519951\n",
            "Samples Processed = 1200000, Time Elapsed = 09:33:30.16, Running Loss = 32.16155150315535\n",
            "Samples Processed = 1300000, Time Elapsed = 09:36:51.59, Running Loss = 31.956392614883953\n",
            "Samples Processed = 1400000, Time Elapsed = 09:40:13.27, Running Loss = 30.899371690305998\n",
            "Samples Processed = 1500000, Time Elapsed = 09:43:37.28, Running Loss = 31.833421201787132\n",
            "Samples Processed = 1600000, Time Elapsed = 09:46:57.37, Running Loss = 30.78518888025428\n",
            "Training Loss for Epoch 11 = 502.501745898815\n",
            "Samples Processed = 100000, Time Elapsed = 09:50:17.73, Running Loss = 26.461639934605046\n",
            "Samples Processed = 200000, Time Elapsed = 09:53:37.50, Running Loss = 27.015143078227993\n",
            "Samples Processed = 300000, Time Elapsed = 09:56:58.33, Running Loss = 28.46459536518887\n",
            "Samples Processed = 400000, Time Elapsed = 10:00:18.97, Running Loss = 27.69856778256144\n",
            "Samples Processed = 500000, Time Elapsed = 10:03:39.54, Running Loss = 27.690546970636206\n",
            "Samples Processed = 600000, Time Elapsed = 10:06:59.41, Running Loss = 28.193444801228907\n",
            "Samples Processed = 700000, Time Elapsed = 10:10:18.75, Running Loss = 26.841771515133587\n",
            "Samples Processed = 800000, Time Elapsed = 10:13:41.13, Running Loss = 27.10463668059674\n",
            "Samples Processed = 900000, Time Elapsed = 10:17:04.36, Running Loss = 28.133017448937608\n",
            "Samples Processed = 1000000, Time Elapsed = 10:20:27.49, Running Loss = 27.484379125110536\n",
            "Samples Processed = 1100000, Time Elapsed = 10:23:52.09, Running Loss = 27.05989024315204\n",
            "Samples Processed = 1200000, Time Elapsed = 10:27:14.44, Running Loss = 27.285512167749403\n",
            "Samples Processed = 1300000, Time Elapsed = 10:30:36.25, Running Loss = 27.251949694858922\n",
            "Samples Processed = 1400000, Time Elapsed = 10:33:58.23, Running Loss = 29.90442003804128\n",
            "Samples Processed = 1500000, Time Elapsed = 10:37:21.09, Running Loss = 27.774345537087356\n",
            "Samples Processed = 1600000, Time Elapsed = 10:40:43.50, Running Loss = 27.117790922093263\n",
            "Training Loss for Epoch 12 = 441.4816513052092\n",
            "Samples Processed = 100000, Time Elapsed = 10:44:06.79, Running Loss = 22.868049984761456\n",
            "Samples Processed = 200000, Time Elapsed = 10:47:28.99, Running Loss = 24.60459246757273\n",
            "Samples Processed = 300000, Time Elapsed = 10:50:51.69, Running Loss = 23.438410889328225\n",
            "Samples Processed = 400000, Time Elapsed = 10:54:14.37, Running Loss = 25.217253705448456\n",
            "Samples Processed = 500000, Time Elapsed = 10:57:35.89, Running Loss = 24.213640115085582\n",
            "Samples Processed = 600000, Time Elapsed = 11:00:57.35, Running Loss = 24.504969477544364\n",
            "Samples Processed = 700000, Time Elapsed = 11:04:18.42, Running Loss = 24.540436578783556\n",
            "Samples Processed = 800000, Time Elapsed = 11:07:38.94, Running Loss = 26.115842712595622\n",
            "Samples Processed = 900000, Time Elapsed = 11:10:59.67, Running Loss = 23.035026376033784\n",
            "Samples Processed = 1000000, Time Elapsed = 11:14:19.90, Running Loss = 24.154604346098495\n",
            "Samples Processed = 1100000, Time Elapsed = 11:17:41.26, Running Loss = 24.22027638319014\n",
            "Samples Processed = 1200000, Time Elapsed = 11:21:00.50, Running Loss = 23.495997798381723\n",
            "Samples Processed = 1300000, Time Elapsed = 11:24:20.16, Running Loss = 25.568328961096995\n",
            "Samples Processed = 1400000, Time Elapsed = 11:27:39.48, Running Loss = 24.62313788299798\n",
            "Samples Processed = 1500000, Time Elapsed = 11:30:59.03, Running Loss = 24.557578568223107\n",
            "Samples Processed = 1600000, Time Elapsed = 11:34:18.95, Running Loss = 22.92082145246968\n",
            "Training Loss for Epoch 13 = 388.0789676996119\n",
            "Samples Processed = 100000, Time Elapsed = 11:37:39.39, Running Loss = 21.599362120694423\n",
            "Samples Processed = 200000, Time Elapsed = 11:40:59.01, Running Loss = 22.802625043947046\n",
            "Samples Processed = 300000, Time Elapsed = 11:44:19.01, Running Loss = 22.76929014414236\n",
            "Samples Processed = 400000, Time Elapsed = 11:47:40.18, Running Loss = 23.305490330230896\n",
            "Samples Processed = 500000, Time Elapsed = 11:51:00.32, Running Loss = 23.71577140773661\n",
            "Samples Processed = 600000, Time Elapsed = 11:54:20.73, Running Loss = 22.545102868018148\n",
            "Samples Processed = 700000, Time Elapsed = 11:57:40.90, Running Loss = 23.50493809506952\n",
            "Samples Processed = 800000, Time Elapsed = 12:01:00.82, Running Loss = 20.981020608239305\n",
            "Samples Processed = 900000, Time Elapsed = 12:04:20.80, Running Loss = 20.43065740534803\n",
            "Samples Processed = 1000000, Time Elapsed = 12:07:40.63, Running Loss = 23.690547068097658\n",
            "Samples Processed = 1100000, Time Elapsed = 12:11:00.27, Running Loss = 20.72338333704829\n",
            "Samples Processed = 1200000, Time Elapsed = 12:14:20.58, Running Loss = 23.041985059768194\n",
            "Samples Processed = 1300000, Time Elapsed = 12:17:40.83, Running Loss = 23.55261544001769\n",
            "Samples Processed = 1400000, Time Elapsed = 12:21:02.06, Running Loss = 21.69523042037872\n",
            "Samples Processed = 1500000, Time Elapsed = 12:24:23.28, Running Loss = 22.646073024327052\n",
            "Samples Processed = 1600000, Time Elapsed = 12:27:42.48, Running Loss = 22.3611108255227\n",
            "Training Loss for Epoch 14 = 359.36520319858664\n",
            "Samples Processed = 100000, Time Elapsed = 12:31:02.16, Running Loss = 20.321547951218236\n",
            "Samples Processed = 200000, Time Elapsed = 12:34:25.17, Running Loss = 20.574125714534603\n",
            "Samples Processed = 300000, Time Elapsed = 12:37:46.99, Running Loss = 20.772229955102375\n",
            "Samples Processed = 400000, Time Elapsed = 12:41:08.85, Running Loss = 19.953496961699784\n",
            "Samples Processed = 500000, Time Elapsed = 12:44:30.44, Running Loss = 20.092119869463204\n",
            "Samples Processed = 600000, Time Elapsed = 12:47:52.03, Running Loss = 20.74817490786154\n",
            "Samples Processed = 700000, Time Elapsed = 12:51:14.39, Running Loss = 20.812694082500457\n",
            "Samples Processed = 800000, Time Elapsed = 12:54:37.75, Running Loss = 20.829943940208977\n",
            "Samples Processed = 900000, Time Elapsed = 12:58:00.08, Running Loss = 21.078081920826662\n",
            "Samples Processed = 1000000, Time Elapsed = 13:01:22.40, Running Loss = 19.097632553615767\n",
            "Samples Processed = 1100000, Time Elapsed = 13:04:44.83, Running Loss = 21.526440365113558\n",
            "Samples Processed = 1200000, Time Elapsed = 13:08:07.28, Running Loss = 21.69266763559972\n",
            "Samples Processed = 1300000, Time Elapsed = 13:11:29.54, Running Loss = 19.748664974673375\n",
            "Samples Processed = 1400000, Time Elapsed = 13:14:51.88, Running Loss = 19.896840168627932\n",
            "Samples Processed = 1500000, Time Elapsed = 13:18:13.87, Running Loss = 19.715869861141982\n",
            "Samples Processed = 1600000, Time Elapsed = 13:21:36.11, Running Loss = 22.47646530080965\n",
            "Training Loss for Epoch 15 = 329.3369961629978\n",
            "Samples Processed = 100000, Time Elapsed = 13:24:59.61, Running Loss = 15.986599946169008\n",
            "Samples Processed = 200000, Time Elapsed = 13:28:22.71, Running Loss = 17.455709694944744\n",
            "Samples Processed = 300000, Time Elapsed = 13:31:43.39, Running Loss = 17.2921827666396\n",
            "Samples Processed = 400000, Time Elapsed = 13:34:59.74, Running Loss = 17.677792973943724\n",
            "Samples Processed = 500000, Time Elapsed = 13:38:15.55, Running Loss = 18.919840424281574\n",
            "Samples Processed = 600000, Time Elapsed = 13:41:31.17, Running Loss = 17.630406327074525\n",
            "Samples Processed = 700000, Time Elapsed = 13:44:46.74, Running Loss = 18.30519302061475\n",
            "Samples Processed = 800000, Time Elapsed = 13:48:02.56, Running Loss = 18.67416027307081\n",
            "Samples Processed = 900000, Time Elapsed = 13:51:19.34, Running Loss = 17.083297290871997\n",
            "Samples Processed = 1000000, Time Elapsed = 13:54:37.62, Running Loss = 19.335878589763524\n",
            "Samples Processed = 1100000, Time Elapsed = 13:57:55.40, Running Loss = 18.140629949937647\n",
            "Samples Processed = 1200000, Time Elapsed = 14:01:13.75, Running Loss = 19.355744342228718\n",
            "Samples Processed = 1300000, Time Elapsed = 14:04:31.86, Running Loss = 16.773699484720055\n",
            "Samples Processed = 1400000, Time Elapsed = 14:07:49.64, Running Loss = 19.58770820760037\n",
            "Samples Processed = 1500000, Time Elapsed = 14:11:07.38, Running Loss = 15.839294113673532\n",
            "Samples Processed = 1600000, Time Elapsed = 14:14:24.98, Running Loss = 18.10472399197897\n",
            "Training Loss for Epoch 16 = 286.16286139751355\n",
            "Samples Processed = 100000, Time Elapsed = 14:17:43.86, Running Loss = 17.032600143904347\n",
            "Samples Processed = 200000, Time Elapsed = 14:21:01.76, Running Loss = 17.018539745775342\n",
            "Samples Processed = 300000, Time Elapsed = 14:24:20.50, Running Loss = 16.114544856500288\n",
            "Samples Processed = 400000, Time Elapsed = 14:27:38.95, Running Loss = 17.685191512602614\n",
            "Samples Processed = 500000, Time Elapsed = 14:30:56.32, Running Loss = 16.497921700112784\n",
            "Samples Processed = 600000, Time Elapsed = 14:34:14.08, Running Loss = 15.709392353646763\n",
            "Samples Processed = 700000, Time Elapsed = 14:37:31.36, Running Loss = 16.668224738639765\n",
            "Samples Processed = 800000, Time Elapsed = 14:40:49.32, Running Loss = 14.891916235914323\n",
            "Samples Processed = 900000, Time Elapsed = 14:44:06.63, Running Loss = 17.44976531100474\n",
            "Samples Processed = 1000000, Time Elapsed = 14:47:23.57, Running Loss = 16.599866813648987\n",
            "Samples Processed = 1100000, Time Elapsed = 14:50:40.67, Running Loss = 16.28124372824459\n",
            "Samples Processed = 1200000, Time Elapsed = 14:53:57.72, Running Loss = 16.600553580585256\n",
            "Samples Processed = 1300000, Time Elapsed = 14:57:14.56, Running Loss = 17.353295693802465\n",
            "Samples Processed = 1400000, Time Elapsed = 15:00:32.62, Running Loss = 16.876657624809013\n",
            "Samples Processed = 1500000, Time Elapsed = 15:03:53.96, Running Loss = 16.541809440228462\n",
            "Samples Processed = 1600000, Time Elapsed = 15:07:16.22, Running Loss = 16.142658776201642\n",
            "Training Loss for Epoch 17 = 265.4641822556214\n",
            "Samples Processed = 100000, Time Elapsed = 15:10:39.67, Running Loss = 15.849396094406984\n",
            "Samples Processed = 200000, Time Elapsed = 15:14:02.70, Running Loss = 15.640810230624993\n",
            "Samples Processed = 300000, Time Elapsed = 15:17:25.97, Running Loss = 15.761950720234381\n",
            "Samples Processed = 400000, Time Elapsed = 15:20:49.32, Running Loss = 16.484271830418948\n",
            "Samples Processed = 500000, Time Elapsed = 15:24:11.82, Running Loss = 14.462306991414152\n",
            "Samples Processed = 600000, Time Elapsed = 15:27:33.61, Running Loss = 16.065466005934468\n",
            "Samples Processed = 700000, Time Elapsed = 15:30:54.90, Running Loss = 13.696686157189106\n",
            "Samples Processed = 800000, Time Elapsed = 15:34:16.33, Running Loss = 14.456073220833787\n",
            "Samples Processed = 900000, Time Elapsed = 15:37:37.59, Running Loss = 16.129703852234343\n",
            "Samples Processed = 1000000, Time Elapsed = 15:40:58.72, Running Loss = 13.472795426463563\n",
            "Samples Processed = 1100000, Time Elapsed = 15:44:19.04, Running Loss = 14.697587620024933\n",
            "Samples Processed = 1200000, Time Elapsed = 15:47:40.35, Running Loss = 15.020954946182428\n",
            "Samples Processed = 1300000, Time Elapsed = 15:51:01.64, Running Loss = 16.803845182526857\n",
            "Samples Processed = 1400000, Time Elapsed = 15:54:23.00, Running Loss = 15.129633939349333\n",
            "Samples Processed = 1500000, Time Elapsed = 15:57:44.34, Running Loss = 16.528257608131753\n",
            "Samples Processed = 1600000, Time Elapsed = 16:01:05.73, Running Loss = 15.217734102692702\n",
            "Training Loss for Epoch 18 = 245.41747392866273\n",
            "Samples Processed = 100000, Time Elapsed = 16:04:28.31, Running Loss = 14.06869432968415\n",
            "Samples Processed = 200000, Time Elapsed = 16:07:49.73, Running Loss = 12.542662641841162\n",
            "Samples Processed = 300000, Time Elapsed = 16:11:11.27, Running Loss = 13.024294139637277\n",
            "Samples Processed = 400000, Time Elapsed = 16:14:32.88, Running Loss = 14.245372232675436\n",
            "Samples Processed = 500000, Time Elapsed = 16:17:54.03, Running Loss = 16.87314690209223\n",
            "Samples Processed = 600000, Time Elapsed = 16:21:14.51, Running Loss = 12.767306231330622\n",
            "Samples Processed = 700000, Time Elapsed = 16:24:35.17, Running Loss = 15.0480284548089\n",
            "Samples Processed = 800000, Time Elapsed = 16:27:55.70, Running Loss = 13.417407383283717\n",
            "Samples Processed = 900000, Time Elapsed = 16:31:16.75, Running Loss = 14.061307350102652\n",
            "Samples Processed = 1000000, Time Elapsed = 16:34:37.69, Running Loss = 13.801900680118706\n",
            "Samples Processed = 1100000, Time Elapsed = 16:37:58.56, Running Loss = 13.39014384560869\n",
            "Samples Processed = 1200000, Time Elapsed = 16:41:19.46, Running Loss = 13.441745150450515\n",
            "Samples Processed = 1300000, Time Elapsed = 16:44:40.43, Running Loss = 13.831863045900718\n",
            "Samples Processed = 1400000, Time Elapsed = 16:48:00.81, Running Loss = 13.062847459221757\n",
            "Samples Processed = 1500000, Time Elapsed = 16:51:21.41, Running Loss = 13.921560377191327\n",
            "Samples Processed = 1600000, Time Elapsed = 16:54:41.98, Running Loss = 13.51727902552193\n",
            "Training Loss for Epoch 19 = 221.0155592494698\n",
            "Samples Processed = 100000, Time Elapsed = 16:58:03.13, Running Loss = 12.338421160639882\n",
            "Samples Processed = 200000, Time Elapsed = 17:01:23.64, Running Loss = 12.38567440128736\n",
            "Samples Processed = 300000, Time Elapsed = 17:04:44.57, Running Loss = 12.060959271411775\n",
            "Samples Processed = 400000, Time Elapsed = 17:08:05.31, Running Loss = 13.71408658084556\n",
            "Samples Processed = 500000, Time Elapsed = 17:11:26.63, Running Loss = 12.857616452356524\n",
            "Samples Processed = 600000, Time Elapsed = 17:14:47.60, Running Loss = 13.336040635863355\n",
            "Samples Processed = 700000, Time Elapsed = 17:18:08.16, Running Loss = 13.959878051100532\n",
            "Samples Processed = 800000, Time Elapsed = 17:21:28.98, Running Loss = 12.28811230183237\n",
            "Samples Processed = 900000, Time Elapsed = 17:24:49.38, Running Loss = 13.275482400224064\n",
            "Samples Processed = 1000000, Time Elapsed = 17:28:09.43, Running Loss = 12.633287285643291\n",
            "Samples Processed = 1100000, Time Elapsed = 17:31:30.74, Running Loss = 12.79402432783445\n",
            "Samples Processed = 1200000, Time Elapsed = 17:34:51.25, Running Loss = 15.03201459333286\n",
            "Samples Processed = 1300000, Time Elapsed = 17:38:12.66, Running Loss = 14.505809580039568\n",
            "Samples Processed = 1400000, Time Elapsed = 17:41:33.64, Running Loss = 11.611454726742522\n",
            "Samples Processed = 1500000, Time Elapsed = 17:44:53.83, Running Loss = 13.341134605672778\n",
            "Samples Processed = 1600000, Time Elapsed = 17:48:14.06, Running Loss = 12.608577680890448\n",
            "Training Loss for Epoch 20 = 208.74257405571734\n",
            "Samples Processed = 100000, Time Elapsed = 17:51:35.89, Running Loss = 11.203458786910232\n",
            "Samples Processed = 200000, Time Elapsed = 17:54:57.74, Running Loss = 11.050606151997272\n",
            "Samples Processed = 300000, Time Elapsed = 17:58:19.33, Running Loss = 10.929403301880939\n",
            "Samples Processed = 400000, Time Elapsed = 18:01:41.17, Running Loss = 12.384716950919938\n",
            "Samples Processed = 500000, Time Elapsed = 18:05:02.46, Running Loss = 12.684429501415252\n",
            "Samples Processed = 600000, Time Elapsed = 18:08:24.34, Running Loss = 12.896511351570553\n",
            "Samples Processed = 700000, Time Elapsed = 18:11:46.01, Running Loss = 10.641758005886004\n",
            "Samples Processed = 800000, Time Elapsed = 18:15:08.42, Running Loss = 11.79852584888522\n",
            "Samples Processed = 900000, Time Elapsed = 18:18:28.90, Running Loss = 13.464314836058293\n",
            "Samples Processed = 1000000, Time Elapsed = 18:21:44.37, Running Loss = 10.565812363116493\n",
            "Samples Processed = 1100000, Time Elapsed = 18:24:59.08, Running Loss = 12.355113515936864\n",
            "Samples Processed = 1200000, Time Elapsed = 18:28:13.43, Running Loss = 12.445128635373749\n",
            "Samples Processed = 1300000, Time Elapsed = 18:31:28.97, Running Loss = 12.931184180330092\n",
            "Samples Processed = 1400000, Time Elapsed = 18:34:44.48, Running Loss = 13.47276769448581\n",
            "Samples Processed = 1500000, Time Elapsed = 18:37:59.83, Running Loss = 13.112504944741886\n",
            "Samples Processed = 1600000, Time Elapsed = 18:41:15.13, Running Loss = 12.015722806828308\n",
            "Training Loss for Epoch 21 = 193.9519588763369\n",
            "Samples Processed = 100000, Time Elapsed = 18:44:31.21, Running Loss = 12.67939703749289\n",
            "Samples Processed = 200000, Time Elapsed = 18:47:47.26, Running Loss = 10.94014640509522\n",
            "Samples Processed = 300000, Time Elapsed = 18:51:03.52, Running Loss = 11.084233954818956\n",
            "Samples Processed = 400000, Time Elapsed = 18:54:19.95, Running Loss = 11.574830481340541\n",
            "Samples Processed = 500000, Time Elapsed = 18:57:36.29, Running Loss = 10.719865548071994\n",
            "Samples Processed = 600000, Time Elapsed = 19:00:53.25, Running Loss = 10.556790766554968\n",
            "Samples Processed = 700000, Time Elapsed = 19:04:08.56, Running Loss = 11.603751121840105\n",
            "Samples Processed = 800000, Time Elapsed = 19:07:24.14, Running Loss = 12.274418592163784\n",
            "Samples Processed = 900000, Time Elapsed = 19:10:40.00, Running Loss = 10.960965153461984\n",
            "Samples Processed = 1000000, Time Elapsed = 19:13:56.20, Running Loss = 12.303109147953364\n",
            "Samples Processed = 1100000, Time Elapsed = 19:17:11.71, Running Loss = 11.632834906597054\n",
            "Samples Processed = 1200000, Time Elapsed = 19:20:27.64, Running Loss = 10.592476510175743\n",
            "Samples Processed = 1300000, Time Elapsed = 19:23:43.53, Running Loss = 12.742840897710266\n",
            "Samples Processed = 1400000, Time Elapsed = 19:26:59.72, Running Loss = 13.864111448742733\n",
            "Samples Processed = 1500000, Time Elapsed = 19:30:15.83, Running Loss = 10.230334624018724\n",
            "Samples Processed = 1600000, Time Elapsed = 19:33:31.02, Running Loss = 12.230994662925013\n",
            "Training Loss for Epoch 22 = 185.99110125896334\n",
            "Samples Processed = 100000, Time Elapsed = 19:36:48.04, Running Loss = 9.748257374363675\n",
            "Samples Processed = 200000, Time Elapsed = 19:40:04.20, Running Loss = 10.722885384806887\n",
            "Samples Processed = 300000, Time Elapsed = 19:43:20.63, Running Loss = 11.555313607983408\n",
            "Samples Processed = 400000, Time Elapsed = 19:46:38.57, Running Loss = 12.75264745568984\n",
            "Samples Processed = 500000, Time Elapsed = 19:49:55.16, Running Loss = 10.804119294013617\n",
            "Samples Processed = 600000, Time Elapsed = 19:53:11.00, Running Loss = 11.18171655062406\n",
            "Samples Processed = 700000, Time Elapsed = 19:56:26.69, Running Loss = 10.263451325764436\n",
            "Samples Processed = 800000, Time Elapsed = 19:59:42.50, Running Loss = 11.173854624827072\n"
          ]
        }
      ],
      "source": [
        "!sh train_gpu_colab.sh"
      ]
    }
  ],
  "metadata": {
    "accelerator": "GPU",
    "colab": {
      "collapsed_sections": [],
      "machine_shape": "hm",
      "name": "Polynomial Training and Evaluation.ipynb",
      "provenance": [],
      "include_colab_link": true
    },
    "gpuClass": "standard",
    "kernelspec": {
      "display_name": "Python 3",
      "name": "python3"
    },
    "language_info": {
      "name": "python"
    }
  },
  "nbformat": 4,
  "nbformat_minor": 0
}